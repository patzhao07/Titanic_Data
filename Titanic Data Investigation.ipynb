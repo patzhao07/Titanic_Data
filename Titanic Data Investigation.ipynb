{
 "cells": [
  {
   "cell_type": "markdown",
   "metadata": {},
   "source": [
    "<p><h1><span style=\"color:#2f4f4f\"><u>Project Titanic Data Analysis</u></span></h1></p>"
   ]
  },
  {
   "cell_type": "markdown",
   "metadata": {},
   "source": [
    "The findings in the report presented below are tentative."
   ]
  },
  {
   "cell_type": "markdown",
   "metadata": {},
   "source": [
    "## Introduction\n",
    "This is my final project to conduct data analysis on the Titinic data provided on 891 passengers onboard the ship. "
   ]
  },
  {
   "cell_type": "markdown",
   "metadata": {},
   "source": [
    "## Questions Regarding This Dataset\n",
    "1. What is the survival rate for each gender?\n",
    "2. Does the class of travel determine the survival rate? \n",
    "3. Does age affect the survival rate?"
   ]
  },
  {
   "cell_type": "code",
   "execution_count": 627,
   "metadata": {
    "collapsed": true
   },
   "outputs": [],
   "source": [
    "import matplotlib.pyplot as plt\n",
    "%matplotlib inline\n",
    "import numpy as np\n",
    "import pandas as pd\n",
    "import seaborn as sns\n",
    "import csv"
   ]
  },
  {
   "cell_type": "code",
   "execution_count": 628,
   "metadata": {},
   "outputs": [
    {
     "name": "stdout",
     "output_type": "stream",
     "text": [
      "   PassengerId  Survived  Pclass  \\\n",
      "0            1         0       3   \n",
      "1            2         1       1   \n",
      "2            3         1       3   \n",
      "3            4         1       1   \n",
      "4            5         0       3   \n",
      "\n",
      "                                                Name     Sex   Age  SibSp  \\\n",
      "0                            Braund, Mr. Owen Harris    male  22.0      1   \n",
      "1  Cumings, Mrs. John Bradley (Florence Briggs Th...  female  38.0      1   \n",
      "2                             Heikkinen, Miss. Laina  female  26.0      0   \n",
      "3       Futrelle, Mrs. Jacques Heath (Lily May Peel)  female  35.0      1   \n",
      "4                           Allen, Mr. William Henry    male  35.0      0   \n",
      "\n",
      "   Parch            Ticket     Fare Cabin Embarked  \n",
      "0      0         A/5 21171   7.2500   NaN        S  \n",
      "1      0          PC 17599  71.2833   C85        C  \n",
      "2      0  STON/O2. 3101282   7.9250   NaN        S  \n",
      "3      0            113803  53.1000  C123        S  \n",
      "4      0            373450   8.0500   NaN        S  \n"
     ]
    }
   ],
   "source": [
    "# reads and put titanic_data.csv file into a dataframe.\n",
    "titanic_df = pd.read_csv('titanic_data.csv')\n",
    "\n",
    "# shows what are in the fields of titanic_data.csv\n",
    "print (titanic_df.head())"
   ]
  },
  {
   "cell_type": "code",
   "execution_count": 629,
   "metadata": {},
   "outputs": [
    {
     "data": {
      "text/plain": [
       "177"
      ]
     },
     "execution_count": 629,
     "metadata": {},
     "output_type": "execute_result"
    }
   ],
   "source": [
    "# shows the number of missing 'age' values in the data\n",
    "titanic_df[titanic_df['Age'].isnull()]['PassengerId'].count()"
   ]
  },
  {
   "cell_type": "code",
   "execution_count": 630,
   "metadata": {},
   "outputs": [
    {
     "name": "stdout",
     "output_type": "stream",
     "text": [
      "Pclass 1:\n",
      "male      21\n",
      "female     9\n",
      "Name: Sex, dtype: int64\n",
      "\n",
      "Pclass 2:\n",
      "male      9\n",
      "female    2\n",
      "Name: Sex, dtype: int64\n",
      "\n",
      "Pclass 3:\n",
      "male      94\n",
      "female    42\n",
      "Name: Sex, dtype: int64\n"
     ]
    }
   ],
   "source": [
    "# shows the number of missing 'age' values by Pclass\n",
    "print (\"Pclass 1:\")\n",
    "print (titanic_df[(titanic_df['Age'].isnull()) & (titanic_df['Pclass']==1)]['Sex'].value_counts())\n",
    "print (\"\")\n",
    "print (\"Pclass 2:\")\n",
    "print (titanic_df[(titanic_df['Age'].isnull()) & (titanic_df['Pclass']==2)]['Sex'].value_counts())\n",
    "print (\"\")\n",
    "print (\"Pclass 3:\")\n",
    "print (titanic_df[(titanic_df['Age'].isnull()) & (titanic_df['Pclass']==3)]['Sex'].value_counts())"
   ]
  },
  {
   "cell_type": "markdown",
   "metadata": {},
   "source": [
    "### Cleaning up missing values under 'Age' column\n",
    "The missing values under the 'Age' column in this dataset was being replaced by the mean of the age in each class and sex. This is an <em><b>assumption</em></b> made for the lack of information. "
   ]
  },
  {
   "cell_type": "code",
   "execution_count": 631,
   "metadata": {},
   "outputs": [
    {
     "name": "stdout",
     "output_type": "stream",
     "text": [
      "Age median values by Age and Sex:\n",
      "      Sex  Pclass   Age\n",
      "0  female       1  35.0\n",
      "1  female       2  28.0\n",
      "2  female       3  21.5\n",
      "3    male       1  40.0\n",
      "4    male       2  30.0\n",
      "5    male       3  25.0\n"
     ]
    }
   ],
   "source": [
    "# using Pclass and Sex to find the median age for each Pclass and Sex\n",
    "print (\"Age median values by Age and Sex:\")\n",
    "print (titanic_df.groupby(['Sex','Pclass'], as_index=False).median().loc[:, ['Sex','Pclass', 'Age']])\n",
    "\n",
    "# then, apply transformation to Age missing values with regard to Pclass and Sex\n",
    "titanic_df.loc[:, 'Age'] = titanic_df.groupby(['Sex','Pclass']).transform(lambda x: x.fillna(x.median()))"
   ]
  },
  {
   "cell_type": "markdown",
   "metadata": {},
   "source": [
    "### Question 1: What is the survival rate for each gender?"
   ]
  },
  {
   "cell_type": "code",
   "execution_count": 632,
   "metadata": {},
   "outputs": [
    {
     "name": "stdout",
     "output_type": "stream",
     "text": [
      "Total on Board:\n",
      "male      577\n",
      "female    314\n",
      "Name: Sex, dtype: int64\n",
      "\n",
      "Total Survived:\n",
      "female    233\n",
      "male      109\n",
      "Name: Sex, dtype: int64\n"
     ]
    },
    {
     "data": {
      "image/png": "[encoded data removed]",
      "text/plain": [
       "<matplotlib.figure.Figure at 0x23bb2eaa5c0>"
      ]
     },
     "metadata": {},
     "output_type": "display_data"
    }
   ],
   "source": [
    "total_counts = titanic_df['Sex'].value_counts()\n",
    "survived = titanic_df[titanic_df['Survived']==1]['Sex'].value_counts()\n",
    "dead = titanic_df[titanic_df['Survived']==0]['Sex'].value_counts()\n",
    "df = pd.DataFrame([survived,dead])\n",
    "df.index = ['Survived','Dead']\n",
    "df.plot(title=\"Survival Count by Gender\", kind='barh',stacked=True)\n",
    "\n",
    "print (\"Total on Board:\")\n",
    "print (total_counts)\n",
    "print (\"\")\n",
    "print (\"Total Survived:\")\n",
    "print (survived)"
   ]
  },
  {
   "cell_type": "code",
   "execution_count": 633,
   "metadata": {},
   "outputs": [
    {
     "name": "stdout",
     "output_type": "stream",
     "text": [
      "Survival Rates:\n",
      "female    0.742038\n",
      "male      0.188908\n",
      "Name: Sex, dtype: float64\n"
     ]
    }
   ],
   "source": [
    "survival_rates_by_gender = survived / total_counts\n",
    "\n",
    "print (\"Survival Rates:\")\n",
    "print (survival_rates_by_gender)"
   ]
  },
  {
   "cell_type": "markdown",
   "metadata": {},
   "source": [
    "#### Of the 577 males onboarded the ship, 109 males survived the shipwreck, a 19% survival rate. Of the 314 females onboarded the ship, 233 females survived the shipwreck, a 74% survival rate.\n",
    "\n",
    "#### Purely by looking at the survival rates between genders, females are more likely to survive than males. This could be largely due to the evacuation protocal when the shipwreck happened. Women are likely given the first priority to evacuate before men."
   ]
  },
  {
   "cell_type": "markdown",
   "metadata": {},
   "source": [
    "### Question 2: Does the class of travel determine the survival rate?"
   ]
  },
  {
   "cell_type": "code",
   "execution_count": 634,
   "metadata": {},
   "outputs": [],
   "source": [
    "# calculating the survived class and dead class\n",
    "survived_class = titanic_df[titanic_df['Survived'] == 1]['Pclass'].value_counts()\n",
    "dead_class = titanic_df[titanic_df['Survived'] == 0]['Pclass'].value_counts()"
   ]
  },
  {
   "cell_type": "code",
   "execution_count": 635,
   "metadata": {},
   "outputs": [
    {
     "data": {
      "text/plain": [
       "<matplotlib.legend.Legend at 0x23bb13c9160>"
      ]
     },
     "execution_count": 635,
     "metadata": {},
     "output_type": "execute_result"
    },
    {
     "data": {
      "image/png": "[encoded data removed]",
      "text/plain": [
       "<matplotlib.figure.Figure at 0x23bb3ded128>"
      ]
     },
     "metadata": {},
     "output_type": "display_data"
    }
   ],
   "source": [
    "df = pd.DataFrame([survived_class, dead_class])\n",
    "df.index = ['Survived', 'Dead']\n",
    "df.plot(kind='bar', title= 'Survival Count by PClass', figsize=(9, 8))\n",
    "plt.legend(['1st class', '2nd class', '3rd class'], loc='upper left')"
   ]
  },
  {
   "cell_type": "code",
   "execution_count": 636,
   "metadata": {},
   "outputs": [
    {
     "name": "stdout",
     "output_type": "stream",
     "text": [
      "1    0.629630\n",
      "2    0.472826\n",
      "3    0.242363\n",
      "Name: Pclass, dtype: float64\n"
     ]
    }
   ],
   "source": [
    "print (survived_class/(survived_class+dead_class))"
   ]
  },
  {
   "cell_type": "markdown",
   "metadata": {
    "collapsed": true
   },
   "source": [
    "#### The chart above shows a representation of survival counts between different classes and clearly shown that PClass 1 passengers have the highest survival count. "
   ]
  },
  {
   "cell_type": "code",
   "execution_count": 637,
   "metadata": {},
   "outputs": [
    {
     "data": {
      "text/plain": [
       "<matplotlib.text.Text at 0x23bb4195400>"
      ]
     },
     "execution_count": 637,
     "metadata": {},
     "output_type": "execute_result"
    },
    {
     "data": {
      "image/png": "[encoded data removed]",
      "text/plain": [
       "<matplotlib.figure.Figure at 0x23bb2dd04e0>"
      ]
     },
     "metadata": {},
     "output_type": "display_data"
    }
   ],
   "source": [
    "titanic_df.groupby(['Pclass'])['Fare'].mean().plot(kind='bar')\n",
    "plt.ylabel('Fare')\n",
    "plt.title('Mean fare by Pclass')"
   ]
  },
  {
   "cell_type": "markdown",
   "metadata": {},
   "source": [
    "#### The above chart extracts the mean fare of each class. It's evident that class 1 passengers paid a distinctively higher fare and that seems to suggest higher fare meant higher chance in survival."
   ]
  },
  {
   "cell_type": "markdown",
   "metadata": {},
   "source": [
    "### Question 3: Does age affect the survival rate?\n",
    "Earlier, the 177 missing 'Age' fields were filled in with the mean passenger's age of similar Pclass and Sex. <br>"
   ]
  },
  {
   "cell_type": "markdown",
   "metadata": {},
   "source": [
    "<span style = \"color:gray\">\n",
    "<b>Note:</b>\n",
    "<br>\n",
    "<em><b>177 passengers missing age: </b><br>\n",
    "Pclass 1 = 21m, 9f <br>\n",
    "Pclass 2 = 9m, 2f <br> \n",
    "Pclass 3 = 94m, 42f\n",
    "<br><br>\n",
    "<b>Mean age of passengers to be filled in: </b><br>\n",
    "Female, PClass 1 = 35 years old<br>\n",
    "Female, PClass 2 = 28 years old<br>\n",
    "Female, PClass 3 = 21.5 years old<br>\n",
    "Male, PClass 1 = 40 years old<br>\n",
    "Male, PClass 2 = 30 years old<br>\n",
    "Male, PClass 3 = 25 years old</em>\n",
    "</span>\n",
    "<br><br>\n",
    "Below chart shows a comparison of \"Default\" age where the null fields were dropped from the statisics vs. the imputed age values where the mean age were pre-filled in based on the class and sex of the passenger. "
   ]
  },
  {
   "cell_type": "code",
   "execution_count": 638,
   "metadata": {},
   "outputs": [
    {
     "data": {
      "text/plain": [
       "<matplotlib.legend.Legend at 0x23bb10ecbe0>"
      ]
     },
     "execution_count": 638,
     "metadata": {},
     "output_type": "execute_result"
    },
    {
     "data": {
      "image/png": "[encoded data removed]",
      "text/plain": [
       "<matplotlib.figure.Figure at 0x23bb4187a90>"
      ]
     },
     "metadata": {},
     "output_type": "display_data"
    }
   ],
   "source": [
    "# take a look at the defaulted age vs. the one we filled using mean of Pclass and Sex\n",
    "figure = plt.figure(figsize=(15,6))\n",
    "titanic_df2 = pd.read_csv(\"titanic_data.csv\")\n",
    "sns.distplot(titanic_df2.Age.dropna(), kde = False, label = 'Default')\n",
    "sns.distplot(titanic_df.Age, kde = False, label = 'Imputed')\n",
    "plt.title('Comparison between Default and Imputed Age Values')\n",
    "plt.ylabel('Number of passengers')\n",
    "plt.legend()"
   ]
  },
  {
   "cell_type": "markdown",
   "metadata": {},
   "source": [
    "#### Using this way to impute the age did affect the age distribution with tremedous peak at 25-yo and also 40-yo bars.\n",
    "\n",
    "#### The results are skewed because 94 of the male passengers' age are being pre-filled with the mean age of 25 years old for Pclass 3 male passengers. Likewise, there seem to be an unusual spike under 40-yo bar. That is also due to the fact that 21 of the male passengers' age are pre-filled with mean age of 40 years old for Pclass 1 passengers."
   ]
  },
  {
   "cell_type": "code",
   "execution_count": 639,
   "metadata": {},
   "outputs": [
    {
     "name": "stdout",
     "output_type": "stream",
     "text": [
      "Survived Age:\n",
      "count    342.000000\n",
      "mean      28.108684\n",
      "std       14.010565\n",
      "min        0.420000\n",
      "25%       21.000000\n",
      "50%       27.000000\n",
      "75%       36.000000\n",
      "max       80.000000\n",
      "Name: Age, dtype: float64\n",
      "\n",
      "Dead Age:\n",
      "count    549.000000\n",
      "mean      29.737705\n",
      "std       12.818264\n",
      "min        1.000000\n",
      "25%       22.000000\n",
      "50%       25.000000\n",
      "75%       37.000000\n",
      "max       74.000000\n",
      "Name: Age, dtype: float64\n"
     ]
    }
   ],
   "source": [
    "survived = titanic_df[titanic_df['Survived']==1]['Age'].describe()\n",
    "dead = titanic_df[titanic_df['Survived']==0]['Age'].describe()\n",
    "\n",
    "print (\"Survived Age:\")\n",
    "print (survived)\n",
    "print (\"\")\n",
    "print (\"Dead Age:\")\n",
    "print (dead)"
   ]
  },
  {
   "cell_type": "markdown",
   "metadata": {},
   "source": [
    "#### The mean survival age is at 28 years old, not hugely different from the mean fatality age at 30 years old. This could also meant that a large percentage of passengers falls within the adult age range of 14 - 40 years old. \n",
    "\n",
    "#### Exploring that further, we categorize the age of a child, adult and senior accordingly."
   ]
  },
  {
   "cell_type": "code",
   "execution_count": 640,
   "metadata": {},
   "outputs": [],
   "source": [
    "# Categorising by age, where a Child is betwen 0-13 yo, an Adult 14-40 yo and Senior 41-90 yo\n",
    "titanic_df['Age_Cust'] = pd.cut(titanic_df['Age'], bins = [0,13,40,90] , labels=['Childs','Adults','Seniors'])"
   ]
  },
  {
   "cell_type": "code",
   "execution_count": 641,
   "metadata": {},
   "outputs": [
    {
     "data": {
      "text/plain": [
       "<matplotlib.text.Text at 0x23bb4546be0>"
      ]
     },
     "execution_count": 641,
     "metadata": {},
     "output_type": "execute_result"
    },
    {
     "data": {
      "image/png": "[encoded data removed]",
      "text/plain": [
       "<matplotlib.figure.Figure at 0x23bb3da2a20>"
      ]
     },
     "metadata": {},
     "output_type": "display_data"
    }
   ],
   "source": [
    "sns.factorplot('Age_Cust', data = titanic_df, kind='count')\n",
    "plt.ylabel('Number of people on board ship')\n",
    "plt.title('Age distribution in ship')"
   ]
  },
  {
   "cell_type": "markdown",
   "metadata": {},
   "source": [
    "#### This is confirmed by looking at the age distribution, a huge percentage belongs to the adult group between age 14 to 40."
   ]
  },
  {
   "cell_type": "markdown",
   "metadata": {},
   "source": [
    "### Now we look at the survival rate across the ages"
   ]
  },
  {
   "cell_type": "code",
   "execution_count": 642,
   "metadata": {},
   "outputs": [
    {
     "data": {
      "text/plain": [
       "<matplotlib.legend.Legend at 0x23bb41d9be0>"
      ]
     },
     "execution_count": 642,
     "metadata": {},
     "output_type": "execute_result"
    },
    {
     "data": {
      "image/png": "[encoded data removed]",
      "text/plain": [
       "<matplotlib.figure.Figure at 0x23bb44c3f60>"
      ]
     },
     "metadata": {},
     "output_type": "display_data"
    }
   ],
   "source": [
    "figure = plt.figure(figsize=(15,6))\n",
    "plt.hist([titanic_df[titanic_df['Survived']==1]['Age'], titanic_df[titanic_df['Survived']==0]['Age']], stacked=True, bins =50, color = ['g','r'], label = ['Survived','Dead'])\n",
    "plt.title('Survive/Fatality counts across all ages')\n",
    "plt.xlabel('Age')\n",
    "plt.ylabel('Number of passengers')\n",
    "plt.grid(True)\n",
    "plt.legend()"
   ]
  },
  {
   "cell_type": "code",
   "execution_count": 643,
   "metadata": {},
   "outputs": [
    {
     "data": {
      "text/plain": [
       "<matplotlib.text.Text at 0x23bb4a73358>"
      ]
     },
     "execution_count": 643,
     "metadata": {},
     "output_type": "execute_result"
    },
    {
     "data": {
      "image/png": "[encoded data removed]",
      "text/plain": [
       "<matplotlib.figure.Figure at 0x23bb43f3f28>"
      ]
     },
     "metadata": {},
     "output_type": "display_data"
    }
   ],
   "source": [
    "sns.barplot('Age_Cust', 'Survived', data = titanic_df, ci=None)\n",
    "plt.title('Survival by Age Category')\n",
    "plt.ylabel('Mean of Survival')"
   ]
  },
  {
   "cell_type": "markdown",
   "metadata": {},
   "source": [
    "#### The first chart shows the survival and fatality counts across all ages. It is evident that more passengers under the age of 7 survived as compared to the older passengers. \n",
    "\n",
    "#### The second chart shows clearly that a child (0-13 yo) is much likely to survive than that of the adults or seniors. "
   ]
  },
  {
   "cell_type": "code",
   "execution_count": 644,
   "metadata": {},
   "outputs": [
    {
     "data": {
      "text/plain": [
       "<matplotlib.text.Text at 0x23bb4b13588>"
      ]
     },
     "execution_count": 644,
     "metadata": {},
     "output_type": "execute_result"
    },
    {
     "data": {
      "image/png": "[encoded data removed]",
      "text/plain": [
       "<matplotlib.figure.Figure at 0x23bb4af3358>"
      ]
     },
     "metadata": {},
     "output_type": "display_data"
    }
   ],
   "source": [
    "sns.factorplot('Age_Cust', 'Survived', data = titanic_df, hue='Sex', kind='bar', ci=None)\n",
    "plt.title('Survival by Age and Sex')\n",
    "plt.ylabel('Mean of Survival')"
   ]
  },
  {
   "cell_type": "markdown",
   "metadata": {},
   "source": [
    "#### Comparing the survival by age and sex, it suggests that the children and women are given the priority to escape during the shipwreck."
   ]
  },
  {
   "cell_type": "code",
   "execution_count": 645,
   "metadata": {},
   "outputs": [
    {
     "data": {
      "text/plain": [
       "<seaborn.axisgrid.FacetGrid at 0x23bb4e8b6d8>"
      ]
     },
     "execution_count": 645,
     "metadata": {},
     "output_type": "execute_result"
    },
    {
     "data": {
      "image/png": "[encoded data removed]",
      "text/plain": [
       "<matplotlib.figure.Figure at 0x23bb4b95438>"
      ]
     },
     "metadata": {},
     "output_type": "display_data"
    }
   ],
   "source": [
    "sns.factorplot('Age_Cust', 'Survived', data = titanic_df, hue='Sex', kind='bar', col='Pclass', ci=None)"
   ]
  },
  {
   "cell_type": "markdown",
   "metadata": {},
   "source": [
    "#### And it seems evident that the ones who paid a higher fare do have a better chance at survival."
   ]
  },
  {
   "cell_type": "markdown",
   "metadata": {},
   "source": [
    "### Just Curious - Which are the 3 Biggest Families Onboard?\n",
    "Assumption: The ones with the same last name are part of the same family."
   ]
  },
  {
   "cell_type": "code",
   "execution_count": 646,
   "metadata": {},
   "outputs": [
    {
     "name": "stdout",
     "output_type": "stream",
     "text": [
      "Andersson    9\n",
      "Sage         7\n",
      "Carter       6\n",
      "Panula       6\n",
      "Skoog        6\n",
      "Name: Name, dtype: int64\n"
     ]
    }
   ],
   "source": [
    "def last_name(name):\n",
    "    split_name = name.split(\",\")\n",
    "    last_name = split_name[0]\n",
    "    return last_name\n",
    "    \n",
    "family = titanic_df['Name'].apply(last_name)\n",
    "print (family.value_counts().sort_values(ascending=False).head())"
   ]
  },
  {
   "cell_type": "markdown",
   "metadata": {},
   "source": [
    "#### The biggest 3 families on-board Titanic are the Andersson, Sage and Johnson."
   ]
  },
  {
   "cell_type": "markdown",
   "metadata": {},
   "source": [
    "### Going deeper into Andersson's Family..."
   ]
  },
  {
   "cell_type": "code",
   "execution_count": 647,
   "metadata": {},
   "outputs": [
    {
     "data": {
      "text/html": [
       "<div>\n",
       "<style>\n",
       "    .dataframe thead tr:only-child th {\n",
       "        text-align: right;\n",
       "    }\n",
       "\n",
       "    .dataframe thead th {\n",
       "        text-align: left;\n",
       "    }\n",
       "\n",
       "    .dataframe tbody tr th {\n",
       "        vertical-align: top;\n",
       "    }\n",
       "</style>\n",
       "<table border=\"1\" class=\"dataframe\">\n",
       "  <thead>\n",
       "    <tr style=\"text-align: right;\">\n",
       "      <th></th>\n",
       "      <th>PassengerId</th>\n",
       "      <th>Survived</th>\n",
       "      <th>Pclass</th>\n",
       "      <th>Name</th>\n",
       "      <th>Sex</th>\n",
       "      <th>Age</th>\n",
       "      <th>SibSp</th>\n",
       "      <th>Parch</th>\n",
       "      <th>Ticket</th>\n",
       "      <th>Fare</th>\n",
       "      <th>Cabin</th>\n",
       "      <th>Embarked</th>\n",
       "      <th>Age_Cust</th>\n",
       "    </tr>\n",
       "  </thead>\n",
       "  <tbody>\n",
       "    <tr>\n",
       "      <th>13</th>\n",
       "      <td>14</td>\n",
       "      <td>0</td>\n",
       "      <td>3</td>\n",
       "      <td>Andersson, Mr. Anders Johan</td>\n",
       "      <td>male</td>\n",
       "      <td>39.0</td>\n",
       "      <td>1</td>\n",
       "      <td>5</td>\n",
       "      <td>347082</td>\n",
       "      <td>31.2750</td>\n",
       "      <td>NaN</td>\n",
       "      <td>S</td>\n",
       "      <td>Adults</td>\n",
       "    </tr>\n",
       "    <tr>\n",
       "      <th>68</th>\n",
       "      <td>69</td>\n",
       "      <td>1</td>\n",
       "      <td>3</td>\n",
       "      <td>Andersson, Miss. Erna Alexandra</td>\n",
       "      <td>female</td>\n",
       "      <td>17.0</td>\n",
       "      <td>4</td>\n",
       "      <td>2</td>\n",
       "      <td>3101281</td>\n",
       "      <td>7.9250</td>\n",
       "      <td>NaN</td>\n",
       "      <td>S</td>\n",
       "      <td>Adults</td>\n",
       "    </tr>\n",
       "    <tr>\n",
       "      <th>119</th>\n",
       "      <td>120</td>\n",
       "      <td>0</td>\n",
       "      <td>3</td>\n",
       "      <td>Andersson, Miss. Ellis Anna Maria</td>\n",
       "      <td>female</td>\n",
       "      <td>2.0</td>\n",
       "      <td>4</td>\n",
       "      <td>2</td>\n",
       "      <td>347082</td>\n",
       "      <td>31.2750</td>\n",
       "      <td>NaN</td>\n",
       "      <td>S</td>\n",
       "      <td>Childs</td>\n",
       "    </tr>\n",
       "    <tr>\n",
       "      <th>146</th>\n",
       "      <td>147</td>\n",
       "      <td>1</td>\n",
       "      <td>3</td>\n",
       "      <td>Andersson, Mr. August Edvard (\"Wennerstrom\")</td>\n",
       "      <td>male</td>\n",
       "      <td>27.0</td>\n",
       "      <td>0</td>\n",
       "      <td>0</td>\n",
       "      <td>350043</td>\n",
       "      <td>7.7958</td>\n",
       "      <td>NaN</td>\n",
       "      <td>S</td>\n",
       "      <td>Adults</td>\n",
       "    </tr>\n",
       "    <tr>\n",
       "      <th>541</th>\n",
       "      <td>542</td>\n",
       "      <td>0</td>\n",
       "      <td>3</td>\n",
       "      <td>Andersson, Miss. Ingeborg Constanzia</td>\n",
       "      <td>female</td>\n",
       "      <td>9.0</td>\n",
       "      <td>4</td>\n",
       "      <td>2</td>\n",
       "      <td>347082</td>\n",
       "      <td>31.2750</td>\n",
       "      <td>NaN</td>\n",
       "      <td>S</td>\n",
       "      <td>Childs</td>\n",
       "    </tr>\n",
       "    <tr>\n",
       "      <th>542</th>\n",
       "      <td>543</td>\n",
       "      <td>0</td>\n",
       "      <td>3</td>\n",
       "      <td>Andersson, Miss. Sigrid Elisabeth</td>\n",
       "      <td>female</td>\n",
       "      <td>11.0</td>\n",
       "      <td>4</td>\n",
       "      <td>2</td>\n",
       "      <td>347082</td>\n",
       "      <td>31.2750</td>\n",
       "      <td>NaN</td>\n",
       "      <td>S</td>\n",
       "      <td>Childs</td>\n",
       "    </tr>\n",
       "    <tr>\n",
       "      <th>610</th>\n",
       "      <td>611</td>\n",
       "      <td>0</td>\n",
       "      <td>3</td>\n",
       "      <td>Andersson, Mrs. Anders Johan (Alfrida Konstant...</td>\n",
       "      <td>female</td>\n",
       "      <td>39.0</td>\n",
       "      <td>1</td>\n",
       "      <td>5</td>\n",
       "      <td>347082</td>\n",
       "      <td>31.2750</td>\n",
       "      <td>NaN</td>\n",
       "      <td>S</td>\n",
       "      <td>Adults</td>\n",
       "    </tr>\n",
       "    <tr>\n",
       "      <th>813</th>\n",
       "      <td>814</td>\n",
       "      <td>0</td>\n",
       "      <td>3</td>\n",
       "      <td>Andersson, Miss. Ebba Iris Alfrida</td>\n",
       "      <td>female</td>\n",
       "      <td>6.0</td>\n",
       "      <td>4</td>\n",
       "      <td>2</td>\n",
       "      <td>347082</td>\n",
       "      <td>31.2750</td>\n",
       "      <td>NaN</td>\n",
       "      <td>S</td>\n",
       "      <td>Childs</td>\n",
       "    </tr>\n",
       "    <tr>\n",
       "      <th>850</th>\n",
       "      <td>851</td>\n",
       "      <td>0</td>\n",
       "      <td>3</td>\n",
       "      <td>Andersson, Master. Sigvard Harald Elias</td>\n",
       "      <td>male</td>\n",
       "      <td>4.0</td>\n",
       "      <td>4</td>\n",
       "      <td>2</td>\n",
       "      <td>347082</td>\n",
       "      <td>31.2750</td>\n",
       "      <td>NaN</td>\n",
       "      <td>S</td>\n",
       "      <td>Childs</td>\n",
       "    </tr>\n",
       "  </tbody>\n",
       "</table>\n",
       "</div>"
      ],
      "text/plain": [
       "     PassengerId  Survived  Pclass  \\\n",
       "13            14         0       3   \n",
       "68            69         1       3   \n",
       "119          120         0       3   \n",
       "146          147         1       3   \n",
       "541          542         0       3   \n",
       "542          543         0       3   \n",
       "610          611         0       3   \n",
       "813          814         0       3   \n",
       "850          851         0       3   \n",
       "\n",
       "                                                  Name     Sex   Age  SibSp  \\\n",
       "13                         Andersson, Mr. Anders Johan    male  39.0      1   \n",
       "68                     Andersson, Miss. Erna Alexandra  female  17.0      4   \n",
       "119                  Andersson, Miss. Ellis Anna Maria  female   2.0      4   \n",
       "146       Andersson, Mr. August Edvard (\"Wennerstrom\")    male  27.0      0   \n",
       "541               Andersson, Miss. Ingeborg Constanzia  female   9.0      4   \n",
       "542                  Andersson, Miss. Sigrid Elisabeth  female  11.0      4   \n",
       "610  Andersson, Mrs. Anders Johan (Alfrida Konstant...  female  39.0      1   \n",
       "813                 Andersson, Miss. Ebba Iris Alfrida  female   6.0      4   \n",
       "850            Andersson, Master. Sigvard Harald Elias    male   4.0      4   \n",
       "\n",
       "     Parch   Ticket     Fare Cabin Embarked Age_Cust  \n",
       "13       5   347082  31.2750   NaN        S   Adults  \n",
       "68       2  3101281   7.9250   NaN        S   Adults  \n",
       "119      2   347082  31.2750   NaN        S   Childs  \n",
       "146      0   350043   7.7958   NaN        S   Adults  \n",
       "541      2   347082  31.2750   NaN        S   Childs  \n",
       "542      2   347082  31.2750   NaN        S   Childs  \n",
       "610      5   347082  31.2750   NaN        S   Adults  \n",
       "813      2   347082  31.2750   NaN        S   Childs  \n",
       "850      2   347082  31.2750   NaN        S   Childs  "
      ]
     },
     "execution_count": 647,
     "metadata": {},
     "output_type": "execute_result"
    }
   ],
   "source": [
    "titanic_df[(titanic_df['Name'].apply(last_name))=='Andersson']"
   ]
  },
  {
   "cell_type": "markdown",
   "metadata": {},
   "source": [
    "#### Supposedly the assumption of all 9 under \"Andersson\" are from the same family, there are only 2 survivals - female age 17 and male age 27. Ironically, the fare paid by both of them are the lowest in the family and both hold a different ticket number."
   ]
  },
  {
   "cell_type": "markdown",
   "metadata": {},
   "source": [
    "### Comparing Survival with Gender, Age and Fare"
   ]
  },
  {
   "cell_type": "code",
   "execution_count": 648,
   "metadata": {},
   "outputs": [
    {
     "data": {
      "text/plain": [
       "<matplotlib.axes._subplots.AxesSubplot at 0x23bb3a78358>"
      ]
     },
     "execution_count": 648,
     "metadata": {},
     "output_type": "execute_result"
    },
    {
     "data": {
      "image/png": "[encoded data removed]",
      "text/plain": [
       "<matplotlib.figure.Figure at 0x23bb60c3ba8>"
      ]
     },
     "metadata": {},
     "output_type": "display_data"
    }
   ],
   "source": [
    "plt.figure(figsize=(10,10))\n",
    "plt.title('Survival by Age, Gender and Fare')\n",
    "survived_df = titanic_df[titanic_df['Survived'] == 1]\n",
    "sns.boxplot(x=\"Age_Cust\", y=\"Fare\", hue=\"Sex\", data=survived_df, dodge=True)"
   ]
  },
  {
   "cell_type": "code",
   "execution_count": 649,
   "metadata": {},
   "outputs": [
    {
     "data": {
      "text/plain": [
       "<matplotlib.axes._subplots.AxesSubplot at 0x23bb6058208>"
      ]
     },
     "execution_count": 649,
     "metadata": {},
     "output_type": "execute_result"
    },
    {
     "data": {
      "image/png": "[encoded data removed]",
      "text/plain": [
       "<matplotlib.figure.Figure at 0x23bb06f49e8>"
      ]
     },
     "metadata": {},
     "output_type": "display_data"
    }
   ],
   "source": [
    "plt.figure(figsize=(10,10))\n",
    "plt.title('Fatality by Age, Gender and Fare')\n",
    "dead_df = titanic_df[titanic_df['Survived'] == 0]\n",
    "sns.boxplot(x=\"Age_Cust\", y=\"Fare\", hue=\"Sex\", data=dead_df, dodge=True)"
   ]
  },
  {
   "cell_type": "markdown",
   "metadata": {},
   "source": [
    "#### From the 'survival box plot', the higher fares are paid by older males. The fares are not evenly distributed with distinct outliers paying more than 500 dollars... and that coincidentally display a chance of survival, as compared to other males who don't pay as much in the same age group."
   ]
  },
  {
   "cell_type": "markdown",
   "metadata": {},
   "source": [
    "## Conclusions"
   ]
  },
  {
   "cell_type": "markdown",
   "metadata": {},
   "source": [
    "1. The age column includes several missing values, and using the median to fill in the gaps affected the age distribution, especially for those under age 25 and 40. \n",
    "2. The uneven distribution of higher males than females represented in this data might tilt the results when making comparisons of the gender with fare, age or survival rate. \n",
    "3. The statistics shows corelation but not causation. It suggests the strength of relationship between two variables but unable to tell me the true cause of their death nor survival. \n",
    "4. It would be interesting to include the education level of the adults in this chart, that would draw interesting corelations if the ones better educated would have a better chance at survival. "
   ]
  }
 ],
 "metadata": {
  "kernelspec": {
   "display_name": "Python [default]",
   "language": "python",
   "name": "python3"
  },
  "language_info": {
   "codemirror_mode": {
    "name": "ipython",
    "version": 3
   },
   "file_extension": ".py",
   "mimetype": "text/x-python",
   "name": "python",
   "nbconvert_exporter": "python",
   "pygments_lexer": "ipython3",
   "version": "3.6.1"
  }
 },
 "nbformat": 4,
 "nbformat_minor": 2
}
